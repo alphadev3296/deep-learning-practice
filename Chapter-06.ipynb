{
  "nbformat": 4,
  "nbformat_minor": 0,
  "metadata": {
    "colab": {
      "provenance": [],
      "gpuType": "T4",
      "authorship_tag": "ABX9TyN/mNtlnzoJzxUer93zXE1O",
      "include_colab_link": true
    },
    "kernelspec": {
      "name": "python3",
      "display_name": "Python 3"
    },
    "language_info": {
      "name": "python"
    },
    "accelerator": "GPU"
  },
  "cells": [
    {
      "cell_type": "markdown",
      "metadata": {
        "id": "view-in-github",
        "colab_type": "text"
      },
      "source": [
        "<a href=\"https://colab.research.google.com/github/alphadev3296/deep-learning-practice/blob/main/Chapter-06.ipynb\" target=\"_parent\"><img src=\"https://colab.research.google.com/assets/colab-badge.svg\" alt=\"Open In Colab\"/></a>"
      ]
    },
    {
      "cell_type": "code",
      "execution_count": 3,
      "metadata": {
        "id": "qvs1dthcPoJL",
        "colab": {
          "base_uri": "https://localhost:8080/"
        },
        "outputId": "4ff3a560-f02c-472d-f4de-eb8d305d06f7"
      },
      "outputs": [
        {
          "output_type": "stream",
          "name": "stdout",
          "text": [
            "0 0.7273973822593689\n",
            "1000 0.6931471824645996\n",
            "2000 0.6931471824645996\n",
            "3000 0.6931471824645996\n",
            "4000 0.6931471824645996\n",
            "5000 0.6931471824645996\n",
            "6000 0.6931471824645996\n",
            "7000 0.6931471824645996\n",
            "8000 0.6931471824645996\n",
            "9000 0.6931471824645996\n",
            "10000 0.6931471824645996\n",
            "Hypothesis: [[0.5]\n",
            " [0.5]\n",
            " [0.5]\n",
            " [0.5]]\n",
            "Predicted: [[0.]\n",
            " [0.]\n",
            " [0.]\n",
            " [0.]]\n",
            "Y: [[0.]\n",
            " [1.]\n",
            " [1.]\n",
            " [0.]]\n",
            "Accuracy: 0.5\n"
          ]
        }
      ],
      "source": [
        "# XOR with Single Layer Perceptron - FAIL\n",
        "\n",
        "import torch\n",
        "import torch.nn as nn\n",
        "\n",
        "device = \"cuda\" if torch.cuda.is_available() else \"cpu\"\n",
        "torch.manual_seed(777)\n",
        "if device == \"cuda\":\n",
        "  torch.cuda.manual_seed_all(777)\n",
        "\n",
        "X = torch.FloatTensor([[0, 0], [0, 1], [1, 0], [1, 1]]).to(device)\n",
        "Y = torch.FloatTensor([[0], [1], [1], [0]]).to(device)\n",
        "\n",
        "linear = nn.Linear(2, 1, bias=True)\n",
        "sigmoid = nn.Sigmoid()\n",
        "model = nn.Sequential(linear, sigmoid).to(device)\n",
        "criterion = torch.nn.BCELoss().to(device)\n",
        "optimizer = torch.optim.SGD(model.parameters(), lr=1)\n",
        "for step in range(10001):\n",
        "  optimizer.zero_grad()\n",
        "  hypothesis = model(X)\n",
        "  cost = criterion(hypothesis, Y)\n",
        "  cost.backward()\n",
        "  optimizer.step()\n",
        "\n",
        "  if step % 1000 == 0:\n",
        "    print(step, cost.item())\n",
        "\n",
        "with torch.no_grad():\n",
        "  hypothesis = model(X)\n",
        "  predicted = (hypothesis > 0.5).float()\n",
        "  accuracy = (predicted == Y).float().mean()\n",
        "\n",
        "  print(f\"Hypothesis: {hypothesis.detach().cpu().numpy()}\")\n",
        "  print(f\"Predicted: {predicted.detach().cpu().numpy()}\")\n",
        "  print(f\"Y: {Y.cpu().numpy()}\")\n",
        "  print(f\"Accuracy: {accuracy.item()}\")"
      ]
    },
    {
      "cell_type": "code",
      "source": [
        "# XOR with Multi Layer Perceptron\n",
        "import torch\n",
        "import torch.nn as nn\n",
        "\n",
        "device = \"cuda\" if torch.cuda.is_available() else \"cpu\"\n",
        "torch.manual_seed(777)\n",
        "if device == \"cuda\":\n",
        "  torch.cuda.manual_seed_all(777)\n",
        "\n",
        "X = torch.FloatTensor([[0, 0], [0, 1], [1, 0], [1, 1]]).to(device)\n",
        "Y = torch.FloatTensor([[0], [1], [1], [0]]).to(device)\n",
        "\n",
        "model = nn.Sequential(\n",
        "  nn.Linear(2, 10, bias=True),\n",
        "  nn.Sigmoid(),\n",
        "  nn.Linear(10, 10, bias=True),\n",
        "  nn.Sigmoid(),\n",
        "  nn.Linear(10, 10, bias=True),\n",
        "  nn.Sigmoid(),\n",
        "  nn.Linear(10, 1, bias=True),\n",
        "  nn.Sigmoid()).to(device)\n",
        "criterion = torch.nn.BCELoss().to(device)\n",
        "optimizer = torch.optim.SGD(model.parameters(), lr=1)\n",
        "\n",
        "for epoch in range(10001):\n",
        "  optimizer.zero_grad()\n",
        "  hyperthesis = model(X)\n",
        "  cost = criterion(hyperthesis, Y)\n",
        "  cost.backward()\n",
        "  optimizer.step()\n",
        "\n",
        "  if epoch % 1000 == 0:\n",
        "    print(epoch, cost.item())\n",
        "\n",
        "with torch.no_grad():\n",
        "  hyperthesis = model(X)\n",
        "  predicted = (hyperthesis > 0.5).float()\n",
        "  accuracy = (predicted == Y).float().mean()\n",
        "  print(f\"Hypothesis: {hyperthesis.detach().cpu().numpy()}\")\n",
        "  print(f\"Predicted: {predicted.detach().cpu().numpy()}\")\n",
        "  print(f\"Y: {Y.cpu().numpy()}\")\n",
        "  print(f\"Accuracy: {accuracy.item()}\")"
      ],
      "metadata": {
        "colab": {
          "base_uri": "https://localhost:8080/"
        },
        "id": "h2AMcpLjg3xu",
        "outputId": "b7c19ee4-a8d0-44e1-ae05-122b60ccf515"
      },
      "execution_count": 2,
      "outputs": [
        {
          "output_type": "stream",
          "name": "stdout",
          "text": [
            "0 0.6948983669281006\n",
            "1000 0.6931380033493042\n",
            "2000 0.6931171417236328\n",
            "3000 0.6930763125419617\n",
            "4000 0.6929103136062622\n",
            "5000 0.6820820569992065\n",
            "6000 0.0013024790678173304\n",
            "7000 0.0004836432926822454\n",
            "8000 0.0002889953029807657\n",
            "9000 0.00020379797206260264\n",
            "10000 0.0001565151324030012\n",
            "Hypothesis: [[1.1169227e-04]\n",
            " [9.9982882e-01]\n",
            " [9.9984241e-01]\n",
            " [1.8534942e-04]]\n",
            "Predicted: [[0.]\n",
            " [1.]\n",
            " [1.]\n",
            " [0.]]\n",
            "Y: [[0.]\n",
            " [1.]\n",
            " [1.]\n",
            " [0.]]\n",
            "Accuracy: 1.0\n"
          ]
        }
      ]
    }
  ]
}