{
  "nbformat": 4,
  "nbformat_minor": 0,
  "metadata": {
    "colab": {
      "provenance": [],
      "gpuType": "T4",
      "authorship_tag": "ABX9TyNcpkkjidK4HmHepsme3yWY",
      "include_colab_link": true
    },
    "kernelspec": {
      "name": "python3",
      "display_name": "Python 3"
    },
    "language_info": {
      "name": "python"
    },
    "accelerator": "GPU"
  },
  "cells": [
    {
      "cell_type": "markdown",
      "metadata": {
        "id": "view-in-github",
        "colab_type": "text"
      },
      "source": [
        "<a href=\"https://colab.research.google.com/github/alphadev3296/deep-learning-practice/blob/main/Chapter-06.ipynb\" target=\"_parent\"><img src=\"https://colab.research.google.com/assets/colab-badge.svg\" alt=\"Open In Colab\"/></a>"
      ]
    },
    {
      "cell_type": "code",
      "execution_count": 3,
      "metadata": {
        "id": "qvs1dthcPoJL",
        "colab": {
          "base_uri": "https://localhost:8080/"
        },
        "outputId": "4ff3a560-f02c-472d-f4de-eb8d305d06f7"
      },
      "outputs": [
        {
          "output_type": "stream",
          "name": "stdout",
          "text": [
            "0 0.7273973822593689\n",
            "1000 0.6931471824645996\n",
            "2000 0.6931471824645996\n",
            "3000 0.6931471824645996\n",
            "4000 0.6931471824645996\n",
            "5000 0.6931471824645996\n",
            "6000 0.6931471824645996\n",
            "7000 0.6931471824645996\n",
            "8000 0.6931471824645996\n",
            "9000 0.6931471824645996\n",
            "10000 0.6931471824645996\n",
            "Hypothesis: [[0.5]\n",
            " [0.5]\n",
            " [0.5]\n",
            " [0.5]]\n",
            "Predicted: [[0.]\n",
            " [0.]\n",
            " [0.]\n",
            " [0.]]\n",
            "Y: [[0.]\n",
            " [1.]\n",
            " [1.]\n",
            " [0.]]\n",
            "Accuracy: 0.5\n"
          ]
        }
      ],
      "source": [
        "# XOR with Single Layer Perceptron - FAIL\n",
        "\n",
        "import torch\n",
        "import torch.nn as nn\n",
        "\n",
        "device = \"cuda\" if torch.cuda.is_available() else \"cpu\"\n",
        "torch.manual_seed(777)\n",
        "if device == \"cuda\":\n",
        "  torch.cuda.manual_seed_all(777)\n",
        "\n",
        "X = torch.FloatTensor([[0, 0], [0, 1], [1, 0], [1, 1]]).to(device)\n",
        "Y = torch.FloatTensor([[0], [1], [1], [0]]).to(device)\n",
        "\n",
        "linear = nn.Linear(2, 1, bias=True)\n",
        "sigmoid = nn.Sigmoid()\n",
        "model = nn.Sequential(linear, sigmoid).to(device)\n",
        "criterion = torch.nn.BCELoss().to(device)\n",
        "optimizer = torch.optim.SGD(model.parameters(), lr=1)\n",
        "for step in range(10001):\n",
        "  optimizer.zero_grad()\n",
        "  hypothesis = model(X)\n",
        "  cost = criterion(hypothesis, Y)\n",
        "  cost.backward()\n",
        "  optimizer.step()\n",
        "\n",
        "  if step % 1000 == 0:\n",
        "    print(step, cost.item())\n",
        "\n",
        "with torch.no_grad():\n",
        "  hypothesis = model(X)\n",
        "  predicted = (hypothesis > 0.5).float()\n",
        "  accuracy = (predicted == Y).float().mean()\n",
        "\n",
        "  print(f\"Hypothesis: {hypothesis.detach().cpu().numpy()}\")\n",
        "  print(f\"Predicted: {predicted.detach().cpu().numpy()}\")\n",
        "  print(f\"Y: {Y.cpu().numpy()}\")\n",
        "  print(f\"Accuracy: {accuracy.item()}\")"
      ]
    },
    {
      "cell_type": "code",
      "source": [
        "# XOR with Multi Layer Perceptron - Success\n",
        "\n",
        "import torch\n",
        "import torch.nn as nn\n",
        "\n",
        "device = \"cuda\" if torch.cuda.is_available() else \"cpu\"\n",
        "torch.manual_seed(777)\n",
        "if device == \"cuda\":\n",
        "  torch.cuda.manual_seed_all(777)\n",
        "\n",
        "X = torch.FloatTensor([[0, 0], [0, 1], [1, 0], [1, 1]]).to(device)\n",
        "Y = torch.FloatTensor([[0], [1], [1], [0]]).to(device)\n",
        "\n",
        "model = nn.Sequential(\n",
        "  nn.Linear(2, 10, bias=True),\n",
        "  nn.Sigmoid(),\n",
        "  nn.Linear(10, 10, bias=True),\n",
        "  nn.Sigmoid(),\n",
        "  nn.Linear(10, 10, bias=True),\n",
        "  nn.Sigmoid(),\n",
        "  nn.Linear(10, 1, bias=True),\n",
        "  nn.Sigmoid()).to(device)\n",
        "criterion = torch.nn.BCELoss().to(device)\n",
        "optimizer = torch.optim.SGD(model.parameters(), lr=1)\n",
        "\n",
        "for epoch in range(10001):\n",
        "  optimizer.zero_grad()\n",
        "  hyperthesis = model(X)\n",
        "  cost = criterion(hyperthesis, Y)\n",
        "  cost.backward()\n",
        "  optimizer.step()\n",
        "\n",
        "  if epoch % 1000 == 0:\n",
        "    print(epoch, cost.item())\n",
        "\n",
        "with torch.no_grad():\n",
        "  hyperthesis = model(X)\n",
        "  predicted = (hyperthesis > 0.5).float()\n",
        "  accuracy = (predicted == Y).float().mean()\n",
        "  print(f\"Hypothesis: {hyperthesis.detach().cpu().numpy()}\")\n",
        "  print(f\"Predicted: {predicted.detach().cpu().numpy()}\")\n",
        "  print(f\"Y: {Y.cpu().numpy()}\")\n",
        "  print(f\"Accuracy: {accuracy.item()}\")"
      ],
      "metadata": {
        "colab": {
          "base_uri": "https://localhost:8080/"
        },
        "id": "h2AMcpLjg3xu",
        "outputId": "b7c19ee4-a8d0-44e1-ae05-122b60ccf515"
      },
      "execution_count": 2,
      "outputs": [
        {
          "output_type": "stream",
          "name": "stdout",
          "text": [
            "0 0.6948983669281006\n",
            "1000 0.6931380033493042\n",
            "2000 0.6931171417236328\n",
            "3000 0.6930763125419617\n",
            "4000 0.6929103136062622\n",
            "5000 0.6820820569992065\n",
            "6000 0.0013024790678173304\n",
            "7000 0.0004836432926822454\n",
            "8000 0.0002889953029807657\n",
            "9000 0.00020379797206260264\n",
            "10000 0.0001565151324030012\n",
            "Hypothesis: [[1.1169227e-04]\n",
            " [9.9982882e-01]\n",
            " [9.9984241e-01]\n",
            " [1.8534942e-04]]\n",
            "Predicted: [[0.]\n",
            " [1.]\n",
            " [1.]\n",
            " [0.]]\n",
            "Y: [[0.]\n",
            " [1.]\n",
            " [1.]\n",
            " [0.]]\n",
            "Accuracy: 1.0\n"
          ]
        }
      ]
    },
    {
      "cell_type": "code",
      "source": [
        "# Scikit Learn Digit Data\n",
        "\n",
        "import matplotlib.pyplot as plt\n",
        "from sklearn.datasets import load_digits\n",
        "\n",
        "digits = load_digits()\n",
        "\n",
        "# Show first image\n",
        "print(f\"image-0: \\n{digits.images[0]}\")\n",
        "print(f\"label-0: \\n{digits.target[0]}\")\n",
        "plt.imshow(digits.images[0], cmap=plt.cm.gray_r, interpolation=\"nearest\")\n",
        "plt.show()\n",
        "\n",
        "print(f\"sample count: {len(digits.images)}\")\n",
        "print(f\"image size: {digits.images[0].shape}\")\n",
        "\n",
        "# Show the first 4 images\n",
        "images_and_labels = list(zip(digits.images, digits.target))\n",
        "for index, (image, label) in enumerate(images_and_labels[:4]):\n",
        "  plt.subplot(2, 4, index + 1)\n",
        "  plt.axis(\"off\")\n",
        "  plt.imshow(image, cmap=plt.cm.gray_r, interpolation=\"nearest\")\n",
        "  plt.title(f\"sample: {label}\")\n",
        "plt.show()\n",
        "\n",
        "# Check labels\n",
        "for i in range(5):\n",
        "  print(i, f\"{i}-th label: {digits.target[i]}\")\n",
        "\n",
        "# Check data\n",
        "print(f\"data shape: {digits.data.shape}\")\n",
        "print(f\"data-0: \\n{digits.data[0]}\")"
      ],
      "metadata": {
        "colab": {
          "base_uri": "https://localhost:8080/",
          "height": 996
        },
        "id": "5jAKR8BVmEuf",
        "outputId": "bc02201d-5af3-4d4b-a5cc-fb61f04e6429"
      },
      "execution_count": 19,
      "outputs": [
        {
          "output_type": "stream",
          "name": "stdout",
          "text": [
            "image-0: \n",
            "[[ 0.  0.  5. 13.  9.  1.  0.  0.]\n",
            " [ 0.  0. 13. 15. 10. 15.  5.  0.]\n",
            " [ 0.  3. 15.  2.  0. 11.  8.  0.]\n",
            " [ 0.  4. 12.  0.  0.  8.  8.  0.]\n",
            " [ 0.  5.  8.  0.  0.  9.  8.  0.]\n",
            " [ 0.  4. 11.  0.  1. 12.  7.  0.]\n",
            " [ 0.  2. 14.  5. 10. 12.  0.  0.]\n",
            " [ 0.  0.  6. 13. 10.  0.  0.  0.]]\n",
            "label-0: \n",
            "0\n"
          ]
        },
        {
          "output_type": "display_data",
          "data": {
            "text/plain": [
              "<Figure size 640x480 with 1 Axes>"
            ],
            "image/png": "[encoded data removed]"
          },
          "metadata": {}
        },
        {
          "output_type": "stream",
          "name": "stdout",
          "text": [
            "sample count: 1797\n",
            "image size: (8, 8)\n"
          ]
        },
        {
          "output_type": "display_data",
          "data": {
            "text/plain": [
              "<Figure size 640x480 with 4 Axes>"
            ],
            "image/png": "[encoded data removed]"
          },
          "metadata": {}
        },
        {
          "output_type": "stream",
          "name": "stdout",
          "text": [
            "0 0-th label: 0\n",
            "1 1-th label: 1\n",
            "2 2-th label: 2\n",
            "3 3-th label: 3\n",
            "4 4-th label: 4\n",
            "data shape: (1797, 64)\n",
            "data-0: \n",
            "[ 0.  0.  5. 13.  9.  1.  0.  0.  0.  0. 13. 15. 10. 15.  5.  0.  0.  3.\n",
            " 15.  2.  0. 11.  8.  0.  0.  4. 12.  0.  0.  8.  8.  0.  0.  5.  8.  0.\n",
            "  0.  9.  8.  0.  0.  4. 11.  0.  1. 12.  7.  0.  0.  2. 14.  5. 10. 12.\n",
            "  0.  0.  0.  0.  6. 13. 10.  0.  0.  0.]\n"
          ]
        }
      ]
    },
    {
      "cell_type": "code",
      "source": [
        "# Classification Handwriting Digits using Perceptron\n",
        "\n",
        "import torch\n",
        "from torch import nn, optim\n",
        "from sklearn.datasets import load_digits\n",
        "from matplotlib import pyplot as plt\n",
        "import random\n",
        "\n",
        "torch.manual_seed(777)\n",
        "random.seed(777)\n",
        "\n",
        "digits = load_digits()\n",
        "X = digits.data\n",
        "Y = digits.target\n",
        "\n",
        "model = nn.Sequential(\n",
        "    nn.Linear(64, 32),\n",
        "    nn.ReLU(),\n",
        "    nn.Linear(32, 16),\n",
        "    nn.ReLU(),\n",
        "    nn.Linear(16, 10)\n",
        ")\n",
        "\n",
        "X = torch.tensor(X, dtype=torch.float32)\n",
        "Y = torch.tensor(Y, dtype=torch.int64)\n",
        "\n",
        "loss_fn = nn.CrossEntropyLoss()\n",
        "optimizer = optim.Adam(model.parameters())\n",
        "\n",
        "losses = []\n",
        "for epoch in range(1000):\n",
        "    optimizer.zero_grad()\n",
        "    output = model(X)\n",
        "    loss = loss_fn(output, Y)\n",
        "    loss.backward()\n",
        "    optimizer.step()\n",
        "\n",
        "    if epoch % 100 == 0:\n",
        "      print(f\"Epoch: {epoch}, Loss: {loss.item()}\")\n",
        "    losses.append(loss.item())\n",
        "\n",
        "plt.plot(losses)\n",
        "plt.show()\n",
        "\n",
        "with torch.no_grad():\n",
        "  output = model(X)\n",
        "  predicted = torch.argmax(output, dim=1)\n",
        "  accuracy = (predicted == Y).float().mean()\n",
        "  print(f\"Accuracy: {accuracy.item()}\")"
      ],
      "metadata": {
        "colab": {
          "base_uri": "https://localhost:8080/",
          "height": 622
        },
        "id": "a-02jRxen9gS",
        "outputId": "886a8299-231f-483a-a781-6e16c0d453ea"
      },
      "execution_count": 25,
      "outputs": [
        {
          "output_type": "stream",
          "name": "stdout",
          "text": [
            "Epoch: 0, Loss: 2.411224365234375\n",
            "Epoch: 100, Loss: 0.14881376922130585\n",
            "Epoch: 200, Loss: 0.05375979095697403\n",
            "Epoch: 300, Loss: 0.023307954892516136\n",
            "Epoch: 400, Loss: 0.011496049351990223\n",
            "Epoch: 500, Loss: 0.0065620155073702335\n",
            "Epoch: 600, Loss: 0.004179717972874641\n",
            "Epoch: 700, Loss: 0.002867560600861907\n",
            "Epoch: 800, Loss: 0.002076967153698206\n",
            "Epoch: 900, Loss: 0.0015670961001887918\n"
          ]
        },
        {
          "output_type": "display_data",
          "data": {
            "text/plain": [
              "<Figure size 640x480 with 1 Axes>"
            ],
            "image/png": "[encoded data removed]"
          },
          "metadata": {}
        },
        {
          "output_type": "stream",
          "name": "stdout",
          "text": [
            "Accuracy: 1.0\n"
          ]
        }
      ]
    },
    {
      "cell_type": "code",
      "source": [
        "# MNIST Classification using Multi Layer Perceptron\n",
        "\n",
        "import torch\n",
        "from torch import nn, optim\n",
        "from torch.utils.data import TensorDataset, DataLoader\n",
        "from sklearn.model_selection import train_test_split\n",
        "import numpy as np\n",
        "from matplotlib import pyplot as plt\n",
        "%matplotlib inline\n",
        "from sklearn.datasets import fetch_openml\n",
        "\n",
        "# Load and analyze dataset\n",
        "mnist = fetch_openml(\"mnist_784\", version=1, cache=True, as_frame=False)\n",
        "mnist.target = mnist.target.astype(np.int8)\n",
        "print(f\"first_data: {mnist.data[0]}\")\n",
        "print(f\"first_label: {mnist.target[0]}\")\n",
        "\n",
        "X = mnist.data / 255\n",
        "Y = mnist.target\n",
        "\n",
        "print(f\"data shape: {X.shape}\")\n",
        "print(f\"label shape: {Y.shape}\")\n",
        "\n",
        "plt.imshow(X[0].reshape(28, 28), cmap=\"gray\")\n",
        "plt.title(f\"First data: {Y[0]}\")\n",
        "plt.show()\n",
        "\n",
        "# Split into Train data and Test data\n",
        "X_train, X_test, y_train, y_test = train_test_split(X, Y, test_size=1/7, random_state=0)\n",
        "\n",
        "# Convert to Tensor\n",
        "X_tran = torch.Tensor(X_train)\n",
        "X_test = torch.Tensor(X_test)\n",
        "y_train = torch.LongTensor(y_train)\n",
        "y_test = torch.LongTensor(y_test)\n",
        "\n",
        "# Create TensorDataset instance\n",
        "ds_train = TensorDataset(X_tran, y_train)\n",
        "ds_test = TensorDataset(X_test, y_test)\n",
        "\n",
        "# Create DataLoader instance\n",
        "loader_train = DataLoader(ds_train, batch_size=64, shuffle=True)\n",
        "loader_test = DataLoader(ds_test, batch_size=64, shuffle=False)\n",
        "\n",
        "# Create Model\n",
        "model = nn.Sequential()\n",
        "model.add_module(\"fc1\", nn.Linear(28*28*1, 100))\n",
        "model.add_module(\"relu1\", nn.ReLU())\n",
        "model.add_module(\"fc2\", nn.Linear(100, 100))\n",
        "model.add_module(\"relu2\", nn.ReLU())\n",
        "model.add_module(\"fc3\", nn.Linear(100, 10))\n",
        "\n",
        "# Choose loss function\n",
        "loss_fn = nn.CrossEntropyLoss()\n",
        "\n",
        "# Optimizer\n",
        "optimizer = optim.Adam(model.parameters(), lr=0.01)\n",
        "\n",
        "# Train\n",
        "losses = []\n",
        "epochs = 3\n",
        "for epoch in range(epochs):\n",
        "  for data, targets in loader_train:\n",
        "    optimizer.zero_grad()\n",
        "    y_pred = model(data)\n",
        "    loss = loss_fn(y_pred, targets)\n",
        "    loss.backward()\n",
        "    optimizer.step()\n",
        "    losses.append(loss.item())\n",
        "\n",
        "  print(f\"Epoch: {epoch}, Loss: {loss.item()}\")\n",
        "\n",
        "plt.plot(losses)\n",
        "plt.show()\n",
        "\n",
        "# Check Accuracy\n",
        "model.eval()\n",
        "correct = 0\n",
        "\n",
        "print(\"Training ...\")\n",
        "with torch.no_grad():\n",
        "  for data, targets in loader_test:\n",
        "    y_pred = model(data)\n",
        "    predicted = torch.argmax(y_pred, dim=1)\n",
        "    correct += (predicted == targets).sum().item()\n",
        "\n",
        "data_num = len(loader_test.dataset)\n",
        "print(f\"Accuracy: {correct / data_num * 100}% ({correct}/{data_num})\")\n",
        "\n",
        "# Test with Sample\n",
        "index = 2025\n",
        "data = X_test[index]\n",
        "hyperthesis = model(data)\n",
        "pred = torch.argmax(hyperthesis)\n",
        "print(f\"Predicted: {pred}, Actual: {y_test[index]}\")\n",
        "plt.imshow(data.reshape(28, 28), cmap=\"gray\")\n",
        "plt.title(f\"Predicted: {pred}, Actual: {y_test[index]}\")\n",
        "plt.show()"
      ],
      "metadata": {
        "colab": {
          "base_uri": "https://localhost:8080/",
          "height": 1000
        },
        "id": "QJIhzSvarwAY",
        "outputId": "cca35c9d-7f5c-4d4c-ce77-e350ed4d1731"
      },
      "execution_count": 36,
      "outputs": [
        {
          "output_type": "stream",
          "name": "stdout",
          "text": [
            "first_data: [  0   0   0   0   0   0   0   0   0   0   0   0   0   0   0   0   0   0\n",
            "   0   0   0   0   0   0   0   0   0   0   0   0   0   0   0   0   0   0\n",
            "   0   0   0   0   0   0   0   0   0   0   0   0   0   0   0   0   0   0\n",
            "   0   0   0   0   0   0   0   0   0   0   0   0   0   0   0   0   0   0\n",
            "   0   0   0   0   0   0   0   0   0   0   0   0   0   0   0   0   0   0\n",
            "   0   0   0   0   0   0   0   0   0   0   0   0   0   0   0   0   0   0\n",
            "   0   0   0   0   0   0   0   0   0   0   0   0   0   0   0   0   0   0\n",
            "   0   0   0   0   0   0   0   0   0   0   0   0   0   0   0   0   0   0\n",
            "   0   0   0   0   0   0   0   0   3  18  18  18 126 136 175  26 166 255\n",
            " 247 127   0   0   0   0   0   0   0   0   0   0   0   0  30  36  94 154\n",
            " 170 253 253 253 253 253 225 172 253 242 195  64   0   0   0   0   0   0\n",
            "   0   0   0   0   0  49 238 253 253 253 253 253 253 253 253 251  93  82\n",
            "  82  56  39   0   0   0   0   0   0   0   0   0   0   0   0  18 219 253\n",
            " 253 253 253 253 198 182 247 241   0   0   0   0   0   0   0   0   0   0\n",
            "   0   0   0   0   0   0   0   0  80 156 107 253 253 205  11   0  43 154\n",
            "   0   0   0   0   0   0   0   0   0   0   0   0   0   0   0   0   0   0\n",
            "   0  14   1 154 253  90   0   0   0   0   0   0   0   0   0   0   0   0\n",
            "   0   0   0   0   0   0   0   0   0   0   0   0   0 139 253 190   2   0\n",
            "   0   0   0   0   0   0   0   0   0   0   0   0   0   0   0   0   0   0\n",
            "   0   0   0   0   0  11 190 253  70   0   0   0   0   0   0   0   0   0\n",
            "   0   0   0   0   0   0   0   0   0   0   0   0   0   0   0   0  35 241\n",
            " 225 160 108   1   0   0   0   0   0   0   0   0   0   0   0   0   0   0\n",
            "   0   0   0   0   0   0   0   0   0  81 240 253 253 119  25   0   0   0\n",
            "   0   0   0   0   0   0   0   0   0   0   0   0   0   0   0   0   0   0\n",
            "   0   0  45 186 253 253 150  27   0   0   0   0   0   0   0   0   0   0\n",
            "   0   0   0   0   0   0   0   0   0   0   0   0   0  16  93 252 253 187\n",
            "   0   0   0   0   0   0   0   0   0   0   0   0   0   0   0   0   0   0\n",
            "   0   0   0   0   0   0   0 249 253 249  64   0   0   0   0   0   0   0\n",
            "   0   0   0   0   0   0   0   0   0   0   0   0   0   0  46 130 183 253\n",
            " 253 207   2   0   0   0   0   0   0   0   0   0   0   0   0   0   0   0\n",
            "   0   0   0   0  39 148 229 253 253 253 250 182   0   0   0   0   0   0\n",
            "   0   0   0   0   0   0   0   0   0   0   0   0  24 114 221 253 253 253\n",
            " 253 201  78   0   0   0   0   0   0   0   0   0   0   0   0   0   0   0\n",
            "   0   0  23  66 213 253 253 253 253 198  81   2   0   0   0   0   0   0\n",
            "   0   0   0   0   0   0   0   0   0   0  18 171 219 253 253 253 253 195\n",
            "  80   9   0   0   0   0   0   0   0   0   0   0   0   0   0   0   0   0\n",
            "  55 172 226 253 253 253 253 244 133  11   0   0   0   0   0   0   0   0\n",
            "   0   0   0   0   0   0   0   0   0   0 136 253 253 253 212 135 132  16\n",
            "   0   0   0   0   0   0   0   0   0   0   0   0   0   0   0   0   0   0\n",
            "   0   0   0   0   0   0   0   0   0   0   0   0   0   0   0   0   0   0\n",
            "   0   0   0   0   0   0   0   0   0   0   0   0   0   0   0   0   0   0\n",
            "   0   0   0   0   0   0   0   0   0   0   0   0   0   0   0   0   0   0\n",
            "   0   0   0   0   0   0   0   0   0   0   0   0   0   0   0   0   0   0\n",
            "   0   0   0   0   0   0   0   0   0   0]\n",
            "first_label: 5\n",
            "data shape: (70000, 784)\n",
            "label shape: (70000,)\n"
          ]
        },
        {
          "output_type": "display_data",
          "data": {
            "text/plain": [
              "<Figure size 640x480 with 1 Axes>"
            ],
            "image/png": "[encoded data removed]"
          },
          "metadata": {}
        },
        {
          "output_type": "stream",
          "name": "stdout",
          "text": [
            "Epoch: 0, Loss: 0.08140198141336441\n",
            "Epoch: 1, Loss: 0.01384445559233427\n",
            "Epoch: 2, Loss: 0.058324385434389114\n"
          ]
        },
        {
          "output_type": "display_data",
          "data": {
            "text/plain": [
              "<Figure size 640x480 with 1 Axes>"
            ],
            "image/png": "[encoded data removed]"
          },
          "metadata": {}
        },
        {
          "output_type": "stream",
          "name": "stdout",
          "text": [
            "Accuracy: 95.63000000000001% (9563/10000)\n",
            "Predicted: 9, Actual: 9\n"
          ]
        },
        {
          "output_type": "display_data",
          "data": {
            "text/plain": [
              "<Figure size 640x480 with 1 Axes>"
            ],
            "image/png": "[encoded data removed]"
          },
          "metadata": {}
        }
      ]
    }
  ]
}