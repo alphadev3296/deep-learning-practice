{
  "nbformat": 4,
  "nbformat_minor": 0,
  "metadata": {
    "colab": {
      "provenance": [],
      "gpuType": "T4",
      "authorship_tag": "ABX9TyOULJj+cOCLkHUT0gKf94+S",
      "include_colab_link": true
    },
    "kernelspec": {
      "name": "python3",
      "display_name": "Python 3"
    },
    "language_info": {
      "name": "python"
    },
    "accelerator": "GPU"
  },
  "cells": [
    {
      "cell_type": "markdown",
      "metadata": {
        "id": "view-in-github",
        "colab_type": "text"
      },
      "source": [
        "<a href=\"https://colab.research.google.com/github/alphadev3296/deep-learning-practice/blob/main/Chapter-05.ipynb\" target=\"_parent\"><img src=\"https://colab.research.google.com/assets/colab-badge.svg\" alt=\"Open In Colab\"/></a>"
      ]
    },
    {
      "cell_type": "code",
      "execution_count": null,
      "metadata": {
        "id": "GwmXBlSxv2fR",
        "colab": {
          "base_uri": "https://localhost:8080/"
        },
        "outputId": "c48f5c13-de3a-4b8d-9064-365ebaa3da9a"
      },
      "outputs": [
        {
          "output_type": "stream",
          "name": "stdout",
          "text": [
            "tensor([0.0900, 0.2447, 0.6652])\n",
            "tensor([[0.2645, 0.1639, 0.1855, 0.2585, 0.1277],\n",
            "        [0.2430, 0.1624, 0.2322, 0.1930, 0.1694],\n",
            "        [0.2226, 0.1986, 0.2326, 0.1594, 0.1868]], grad_fn=<SoftmaxBackward0>)\n",
            "tensor([0, 2, 1])\n",
            "tensor([[1., 0., 0., 0., 0.],\n",
            "        [0., 0., 1., 0., 0.],\n",
            "        [0., 1., 0., 0., 0.]])\n",
            "tensor(1.4689, grad_fn=<MeanBackward0>)\n"
          ]
        }
      ],
      "source": [
        "# Softmax Cost Function by Pytorch - Low Level\n",
        "import torch\n",
        "import torch.nn.functional as F\n",
        "\n",
        "torch.manual_seed(1)\n",
        "\n",
        "z = torch.FloatTensor([1, 2, 3])\n",
        "hypothesis = F.softmax(z, dim=0)\n",
        "print(hypothesis)\n",
        "\n",
        "hypothesis.sum()\n",
        "\n",
        "z = torch.rand(3, 5, requires_grad=True)\n",
        "hypothesis = F.softmax(z, dim=1)\n",
        "print(hypothesis)\n",
        "\n",
        "y = torch.randint(5, (3,)).long()\n",
        "print(y)\n",
        "\n",
        "y_one_hot = torch.zeros_like(hypothesis)\n",
        "y_one_hot.scatter_(1, y.unsqueeze(1), 1)\n",
        "print(y_one_hot)\n",
        "\n",
        "cost = (y_one_hot * -torch.log(hypothesis)).sum(dim=1).mean()\n",
        "print(cost)"
      ]
    },
    {
      "cell_type": "code",
      "source": [
        "# Softmax Cost function by Pytorch - High Level\n",
        "import torch\n",
        "import torch.nn.functional as F\n",
        "\n",
        "torch.manual_seed(1)\n",
        "\n",
        "z = torch.rand(3, 5, requires_grad=True)\n",
        "y = torch.randint(5, (3,)).long()\n",
        "print(z)\n",
        "print(y)\n",
        "cost = F.cross_entropy(z, y)\n",
        "print(cost)"
      ],
      "metadata": {
        "colab": {
          "base_uri": "https://localhost:8080/"
        },
        "id": "y50_YEdp3TbX",
        "outputId": "5153a6ae-1895-4d1f-8a66-139fa9dbd143"
      },
      "execution_count": null,
      "outputs": [
        {
          "output_type": "stream",
          "name": "stdout",
          "text": [
            "tensor([[0.7576, 0.2793, 0.4031, 0.7347, 0.0293],\n",
            "        [0.7999, 0.3971, 0.7544, 0.5695, 0.4388],\n",
            "        [0.6387, 0.5247, 0.6826, 0.3051, 0.4635]], requires_grad=True)\n",
            "tensor([0, 2, 1])\n",
            "tensor(1.4689, grad_fn=<NllLossBackward0>)\n"
          ]
        }
      ]
    },
    {
      "cell_type": "code",
      "source": [
        "# Softmax Regression - Low Level\n",
        "import torch\n",
        "import torch.nn as nn\n",
        "import torch.nn.functional as F\n",
        "import torch.optim as optim\n",
        "\n",
        "torch.manual_seed(1)\n",
        "\n",
        "x_train = [[1, 2, 1, 1],\n",
        "           [2, 1, 3, 2],\n",
        "           [3, 1, 3, 4],\n",
        "           [4, 1, 5, 5],\n",
        "           [1, 7, 5, 5],\n",
        "           [1, 2, 5, 6],\n",
        "           [1, 6, 6, 6],\n",
        "           [1, 7, 7, 7]]\n",
        "y_train = [2, 2, 2, 1, 1, 1, 0, 0]\n",
        "x_train = torch.FloatTensor(x_train)\n",
        "y_train = torch.LongTensor(y_train)\n",
        "print(x_train.shape)\n",
        "print(y_train.shape)\n",
        "\n",
        "y_one_hot = torch.zeros(8, 3)\n",
        "y_one_hot.scatter_(1, y_train.unsqueeze(1), 1)\n",
        "print(y_one_hot.shape)\n",
        "\n",
        "W = torch.zeros((4, 3), requires_grad=True)\n",
        "b = torch.zeros((1, 3), requires_grad=True)\n",
        "\n",
        "optimizer = optim.SGD([W, b], lr=0.1)\n",
        "\n",
        "nb_epochs = 10000\n",
        "for epoch in range(nb_epochs + 1):\n",
        "  hyperthesis = F.softmax(x_train.matmul(W) + b, dim=1)\n",
        "  cost = (y_one_hot * -torch.log(hyperthesis)).sum(dim=1).mean()\n",
        "\n",
        "  optimizer.zero_grad()\n",
        "  cost.backward()\n",
        "  optimizer.step()\n",
        "\n",
        "  if epoch % 1000 == 0:\n",
        "    print('Epoch {:4d}/{} Cost: {:.6f}'.format(epoch, nb_epochs, cost.item()))\n",
        "\n",
        "print(W, b)\n",
        "y_pred = F.softmax(x_train.matmul(W) + b, dim=1)\n",
        "print(y_pred)\n",
        "print(torch.argmax(y_pred, dim=1))"
      ],
      "metadata": {
        "colab": {
          "base_uri": "https://localhost:8080/"
        },
        "id": "5OtetTy-KMwD",
        "outputId": "9a01adf4-c60f-44fa-b227-c08ba0b1f30e"
      },
      "execution_count": null,
      "outputs": [
        {
          "output_type": "stream",
          "name": "stdout",
          "text": [
            "torch.Size([8, 4])\n",
            "torch.Size([8])\n",
            "torch.Size([8, 3])\n",
            "Epoch    0/10000 Cost: 1.098612\n",
            "Epoch 1000/10000 Cost: 0.248155\n",
            "Epoch 2000/10000 Cost: 0.158821\n",
            "Epoch 3000/10000 Cost: 0.116604\n",
            "Epoch 4000/10000 Cost: 0.091797\n",
            "Epoch 5000/10000 Cost: 0.075553\n",
            "Epoch 6000/10000 Cost: 0.064124\n",
            "Epoch 7000/10000 Cost: 0.055659\n",
            "Epoch 8000/10000 Cost: 0.049145\n",
            "Epoch 9000/10000 Cost: 0.043981\n",
            "Epoch 10000/10000 Cost: 0.039789\n",
            "tensor([[-7.1085,  1.4937,  5.6147],\n",
            "        [-1.3434, -0.1472,  1.4906],\n",
            "        [ 8.2364, -2.1073, -6.1291],\n",
            "        [-3.6180,  3.0360,  0.5820]], requires_grad=True) tensor([[-6.3489, -2.3317,  8.6807]], requires_grad=True)\n",
            "tensor([[7.9508e-11, 6.5690e-06, 9.9999e-01],\n",
            "        [1.7811e-04, 1.9474e-02, 9.8035e-01],\n",
            "        [1.1671e-13, 4.1809e-02, 9.5819e-01],\n",
            "        [6.1379e-10, 9.6248e-01, 3.7520e-02],\n",
            "        [7.2622e-02, 9.2453e-01, 2.8516e-03],\n",
            "        [3.8537e-02, 9.6146e-01, 7.0804e-08],\n",
            "        [9.1230e-01, 8.7704e-02, 8.1007e-08],\n",
            "        [9.9212e-01, 7.8797e-03, 5.7659e-11]], grad_fn=<SoftmaxBackward0>)\n",
            "tensor([2, 2, 2, 1, 1, 1, 0, 0])\n"
          ]
        }
      ]
    },
    {
      "cell_type": "code",
      "source": [
        "# Softmax Regression - High Level\n",
        "import torch\n",
        "import torch.nn.functional as F\n",
        "import torch.optim as optim\n",
        "\n",
        "torch.manual_seed(1)\n",
        "\n",
        "x_train = [[1, 2, 1, 1],\n",
        "           [2, 1, 3, 2],\n",
        "           [3, 1, 3, 4],\n",
        "           [4, 1, 5, 5],\n",
        "           [1, 7, 5, 5],\n",
        "           [1, 2, 5, 6],\n",
        "           [1, 6, 6, 6],\n",
        "           [1, 7, 7, 7]]\n",
        "y_train = [2, 2, 2, 1, 1, 1, 0, 0]\n",
        "x_train = torch.FloatTensor(x_train)\n",
        "y_train = torch.LongTensor(y_train)\n",
        "\n",
        "W = torch.zeros((4, 3), requires_grad=True)\n",
        "b = torch.zeros((1, 3), requires_grad=True)\n",
        "\n",
        "optimizer = optim.SGD([W, b], lr=0.1)\n",
        "\n",
        "nb_epochs = 10000\n",
        "for epoch in range(nb_epochs + 1):\n",
        "  z = x_train.matmul(W) + b\n",
        "  cost = F.cross_entropy(z, y_train)\n",
        "\n",
        "  optimizer.zero_grad()\n",
        "  cost.backward()\n",
        "  optimizer.step()\n",
        "\n",
        "  if epoch % 1000 == 0:\n",
        "    print('Epoch {:4d}/{} Cost: {:.6f}'.format(epoch, nb_epochs, cost.item()))\n",
        "\n",
        "print(W, b)"
      ],
      "metadata": {
        "colab": {
          "base_uri": "https://localhost:8080/"
        },
        "id": "iL6LcIpsMVcb",
        "outputId": "70b44919-207e-48ea-b608-9953e31ab747"
      },
      "execution_count": null,
      "outputs": [
        {
          "output_type": "stream",
          "name": "stdout",
          "text": [
            "Epoch    0/10000 Cost: 1.098612\n",
            "Epoch 1000/10000 Cost: 0.248155\n",
            "Epoch 2000/10000 Cost: 0.158821\n",
            "Epoch 3000/10000 Cost: 0.116604\n",
            "Epoch 4000/10000 Cost: 0.091797\n",
            "Epoch 5000/10000 Cost: 0.075553\n",
            "Epoch 6000/10000 Cost: 0.064124\n",
            "Epoch 7000/10000 Cost: 0.055659\n",
            "Epoch 8000/10000 Cost: 0.049145\n",
            "Epoch 9000/10000 Cost: 0.043981\n",
            "Epoch 10000/10000 Cost: 0.039789\n",
            "tensor([[-7.1085,  1.4937,  5.6147],\n",
            "        [-1.3434, -0.1472,  1.4906],\n",
            "        [ 8.2364, -2.1073, -6.1292],\n",
            "        [-3.6180,  3.0360,  0.5820]], requires_grad=True) tensor([[-6.3489, -2.3317,  8.6807]], requires_grad=True)\n"
          ]
        }
      ]
    },
    {
      "cell_type": "code",
      "source": [
        "# Softmax Regression - nn.Module\n",
        "\n",
        "torch.manual_seed(1)\n",
        "\n",
        "model = nn.Linear(4, 3)\n",
        "optimizer = optim.SGD(model.parameters(), lr=0.1)\n",
        "\n",
        "nb_epochs = 10000\n",
        "for epoch in range(nb_epochs + 1):\n",
        "  prediction = model(x_train)\n",
        "  cost = F.cross_entropy(prediction, y_train)\n",
        "\n",
        "  optimizer.zero_grad()\n",
        "  cost.backward()\n",
        "  optimizer.step()\n",
        "\n",
        "  if epoch % 1000 == 0:\n",
        "    print('Epoch {:4d}/{} Cost: {:.6f}'.format(epoch, nb_epochs, cost.item()))\n",
        "\n",
        "print(list(model.parameters()))"
      ],
      "metadata": {
        "colab": {
          "base_uri": "https://localhost:8080/"
        },
        "id": "97kkdobZNJZU",
        "outputId": "39254d74-09d1-4460-8e8e-d70a00cda3ff"
      },
      "execution_count": null,
      "outputs": [
        {
          "output_type": "stream",
          "name": "stdout",
          "text": [
            "Epoch    0/10000 Cost: 1.616785\n",
            "Epoch 1000/10000 Cost: 0.254148\n",
            "Epoch 2000/10000 Cost: 0.159963\n",
            "Epoch 3000/10000 Cost: 0.117240\n",
            "Epoch 4000/10000 Cost: 0.092198\n",
            "Epoch 5000/10000 Cost: 0.075828\n",
            "Epoch 6000/10000 Cost: 0.064323\n",
            "Epoch 7000/10000 Cost: 0.055810\n",
            "Epoch 8000/10000 Cost: 0.049263\n",
            "Epoch 9000/10000 Cost: 0.044075\n",
            "Epoch 10000/10000 Cost: 0.039866\n",
            "[Parameter containing:\n",
            "tensor([[-7.2013, -1.3388,  8.2118, -3.4426],\n",
            "        [ 1.4628, -0.1433, -2.1251,  3.2079],\n",
            "        [ 5.5949,  1.5000, -6.1479,  0.7484]], requires_grad=True), Parameter containing:\n",
            "tensor([-6.3093, -2.3680,  8.6286], requires_grad=True)]\n"
          ]
        }
      ]
    },
    {
      "cell_type": "code",
      "source": [
        "# Softmax Regression - Class\n",
        "class SoftmaxClassfierModel(nn.Module):\n",
        "  def __init__(self):\n",
        "    super().__init__()\n",
        "    self.linear = nn.Linear(4, 3)\n",
        "  def forward(self, x):\n",
        "    return self.linear(x)\n",
        "\n",
        "model = SoftmaxClassfierModel()\n",
        "optimizer = optim.SGD(model.parameters(), lr=0.1)\n",
        "\n",
        "nb_epochs = 10000\n",
        "for epoch in range(nb_epochs + 1):\n",
        "  prediction = model(x_train)\n",
        "  cost = F.cross_entropy(prediction, y_train)\n",
        "\n",
        "  optimizer.zero_grad()\n",
        "  cost.backward()\n",
        "  optimizer.step()\n",
        "\n",
        "  if epoch % 1000 == 0:\n",
        "    print('Epoch {:4d}/{} Cost: {:.6f}'.format(epoch, nb_epochs, cost.item()))\n",
        "\n",
        "print(list(model.parameters()))"
      ],
      "metadata": {
        "colab": {
          "base_uri": "https://localhost:8080/"
        },
        "id": "XPU6kySKNs6U",
        "outputId": "f9846c2c-c7ce-48a8-f722-854c2636c85a"
      },
      "execution_count": null,
      "outputs": [
        {
          "output_type": "stream",
          "name": "stdout",
          "text": [
            "Epoch    0/10000 Cost: 3.763306\n",
            "Epoch 1000/10000 Cost: 0.242802\n",
            "Epoch 2000/10000 Cost: 0.157673\n",
            "Epoch 3000/10000 Cost: 0.116000\n",
            "Epoch 4000/10000 Cost: 0.091437\n",
            "Epoch 5000/10000 Cost: 0.075321\n",
            "Epoch 6000/10000 Cost: 0.063964\n",
            "Epoch 7000/10000 Cost: 0.055545\n",
            "Epoch 8000/10000 Cost: 0.049060\n",
            "Epoch 9000/10000 Cost: 0.043916\n",
            "Epoch 10000/10000 Cost: 0.039739\n",
            "[Parameter containing:\n",
            "tensor([[-6.9359, -1.4351,  8.3242, -3.5385],\n",
            "        [ 1.4027, -0.2479, -1.9845,  3.0707],\n",
            "        [ 5.6138,  1.4349, -6.0303,  0.5713]], requires_grad=True), Parameter containing:\n",
            "tensor([-6.5382, -2.1440,  8.8081], requires_grad=True)]\n"
          ]
        }
      ]
    },
    {
      "cell_type": "code",
      "source": [
        "# MNIST Regression\n",
        "\n",
        "import torch\n",
        "import torchvision.datasets as dsets\n",
        "import torchvision.transforms as transforms\n",
        "from torch.utils.data import DataLoader\n",
        "import torch.nn as nn\n",
        "import matplotlib.pyplot as plt\n",
        "import random\n",
        "\n",
        "USE_CUDA = torch.cuda.is_available()\n",
        "device = torch.device(\"cuda\" if USE_CUDA else \"cpu\")\n",
        "print(f\"device: {device}\")\n",
        "\n",
        "random.seed(777)\n",
        "torch.manual_seed(777)\n",
        "\n",
        "traning_epochs = 15\n",
        "batch_size = 128\n",
        "\n",
        "mnist_train = dsets.MNIST(root=\"MNIST_data/\",\n",
        "                          train=True,\n",
        "                          transform=transforms.ToTensor(),\n",
        "                          download=True)\n",
        "mnist_test = dsets.MNIST(root=\"MNIST_data/\",\n",
        "                         train=False,\n",
        "                         transform=transforms.ToTensor(),\n",
        "                         download=True)\n",
        "\n",
        "data_loader = DataLoader(dataset=mnist_train,\n",
        "                         batch_size=batch_size,\n",
        "                         shuffle=True,\n",
        "                         drop_last=True)\n",
        "\n",
        "linear = nn.Linear(784, 10, bias=True).to(device)\n",
        "criterion = nn.CrossEntropyLoss().to(device)\n",
        "optimizer = torch.optim.SGD(linear.parameters(), lr=0.1)\n",
        "\n",
        "for epoch in range(traning_epochs):\n",
        "  avg_cost = 0\n",
        "  total_batch = len(data_loader)\n",
        "\n",
        "  for X, Y in data_loader:\n",
        "    X = X.view(-1, 28 * 28).to(device)\n",
        "    Y = Y.to(device)\n",
        "\n",
        "    optimizer.zero_grad()\n",
        "    hyperthesis = linear(X)\n",
        "    cost = criterion(hyperthesis, Y)\n",
        "    cost.backward()\n",
        "    optimizer.step()\n",
        "\n",
        "    avg_cost += cost / total_batch\n",
        "\n",
        "  print('Epoch:', '%04d' % (epoch + 1), 'cost =', '{:.9f}'.format(avg_cost))\n",
        "\n",
        "print('Learning finished')\n",
        "\n",
        "with torch.no_grad():\n",
        "  X_test = mnist_test.data.view(-1, 28 * 28).float().to(device)\n",
        "  Y_test = mnist_test.targets.to(device)\n",
        "\n",
        "  prediction = linear(X_test)\n",
        "  correct_prediction = torch.argmax(prediction, 1) == Y_test\n",
        "  accuracy = correct_prediction.float().mean()\n",
        "  print('Accuracy:', accuracy.item())\n",
        "\n",
        "  # Select random one from test data\n",
        "  for i in range(10):\n",
        "    r = random.randint(0, len(mnist_test) - 1)\n",
        "    X_single_data = mnist_test.data[r:r + 1].view(-1, 28 * 28).float().to(device)\n",
        "    Y_single_data = mnist_test.targets[r:r + 1].to(device)\n",
        "\n",
        "    print(f\"label: {Y_single_data.item()}\")\n",
        "    single_prediction = linear(X_single_data)\n",
        "    print(f\"prediction: {torch.argmax(single_prediction, 1).item()}\")\n",
        "\n",
        "    plt.imshow(mnist_test.data[r:r + 1].view(28, 28), cmap='Greys', interpolation='nearest')\n",
        "    plt.show()"
      ],
      "metadata": {
        "colab": {
          "base_uri": "https://localhost:8080/",
          "height": 1000
        },
        "id": "cZks7NNkKiXm",
        "outputId": "cb8161f0-b496-4046-8f98-ea03a7d7ec62"
      },
      "execution_count": 3,
      "outputs": [
        {
          "output_type": "stream",
          "name": "stdout",
          "text": [
            "device: cuda\n",
            "Epoch: 0001 cost = 0.573705196\n",
            "Epoch: 0002 cost = 0.374663025\n",
            "Epoch: 0003 cost = 0.342829049\n",
            "Epoch: 0004 cost = 0.325841010\n",
            "Epoch: 0005 cost = 0.315703392\n",
            "Epoch: 0006 cost = 0.307818919\n",
            "Epoch: 0007 cost = 0.302130640\n",
            "Epoch: 0008 cost = 0.297644258\n",
            "Epoch: 0009 cost = 0.293441445\n",
            "Epoch: 0010 cost = 0.290456891\n",
            "Epoch: 0011 cost = 0.287537634\n",
            "Epoch: 0012 cost = 0.284987003\n",
            "Epoch: 0013 cost = 0.283123940\n",
            "Epoch: 0014 cost = 0.281047672\n",
            "Epoch: 0015 cost = 0.279267281\n",
            "Learning finished\n",
            "Accuracy: 0.8894999623298645\n",
            "label: 8\n",
            "prediction: 3\n"
          ]
        },
        {
          "output_type": "display_data",
          "data": {
            "text/plain": [
              "<Figure size 640x480 with 1 Axes>"
            ],
            "image/png": "[encoded data removed]"
          },
          "metadata": {}
        },
        {
          "output_type": "stream",
          "name": "stdout",
          "text": [
            "label: 5\n",
            "prediction: 3\n"
          ]
        },
        {
          "output_type": "display_data",
          "data": {
            "text/plain": [
              "<Figure size 640x480 with 1 Axes>"
            ],
            "image/png": "[encoded data removed]"
          },
          "metadata": {}
        },
        {
          "output_type": "stream",
          "name": "stdout",
          "text": [
            "label: 7\n",
            "prediction: 7\n"
          ]
        },
        {
          "output_type": "display_data",
          "data": {
            "text/plain": [
              "<Figure size 640x480 with 1 Axes>"
            ],
            "image/png": "[encoded data removed]"
          },
          "metadata": {}
        },
        {
          "output_type": "stream",
          "name": "stdout",
          "text": [
            "label: 9\n",
            "prediction: 9\n"
          ]
        },
        {
          "output_type": "display_data",
          "data": {
            "text/plain": [
              "<Figure size 640x480 with 1 Axes>"
            ],
            "image/png": "[encoded data removed]"
          },
          "metadata": {}
        },
        {
          "output_type": "stream",
          "name": "stdout",
          "text": [
            "label: 3\n",
            "prediction: 3\n"
          ]
        },
        {
          "output_type": "display_data",
          "data": {
            "text/plain": [
              "<Figure size 640x480 with 1 Axes>"
            ],
            "image/png": "[encoded data removed]"
          },
          "metadata": {}
        },
        {
          "output_type": "stream",
          "name": "stdout",
          "text": [
            "label: 5\n",
            "prediction: 5\n"
          ]
        },
        {
          "output_type": "display_data",
          "data": {
            "text/plain": [
              "<Figure size 640x480 with 1 Axes>"
            ],
            "image/png": "[encoded data removed]"
          },
          "metadata": {}
        },
        {
          "output_type": "stream",
          "name": "stdout",
          "text": [
            "label: 2\n",
            "prediction: 2\n"
          ]
        },
        {
          "output_type": "display_data",
          "data": {
            "text/plain": [
              "<Figure size 640x480 with 1 Axes>"
            ],
            "image/png": "[encoded data removed]"
          },
          "metadata": {}
        },
        {
          "output_type": "stream",
          "name": "stdout",
          "text": [
            "label: 1\n",
            "prediction: 1\n"
          ]
        },
        {
          "output_type": "display_data",
          "data": {
            "text/plain": [
              "<Figure size 640x480 with 1 Axes>"
            ],
            "image/png": "[encoded data removed]"
          },
          "metadata": {}
        },
        {
          "output_type": "stream",
          "name": "stdout",
          "text": [
            "label: 5\n",
            "prediction: 8\n"
          ]
        },
        {
          "output_type": "display_data",
          "data": {
            "text/plain": [
              "<Figure size 640x480 with 1 Axes>"
            ],
            "image/png": "[encoded data removed]"
          },
          "metadata": {}
        },
        {
          "output_type": "stream",
          "name": "stdout",
          "text": [
            "label: 8\n",
            "prediction: 8\n"
          ]
        },
        {
          "output_type": "display_data",
          "data": {
            "text/plain": [
              "<Figure size 640x480 with 1 Axes>"
            ],
            "image/png": "[encoded data removed]"
          },
          "metadata": {}
        }
      ]
    }
  ]
}