{
  "nbformat": 4,
  "nbformat_minor": 0,
  "metadata": {
    "colab": {
      "provenance": [],
      "gpuType": "T4",
      "authorship_tag": "ABX9TyOXGbtU7+uD6JpE4TPa8Vyl",
      "include_colab_link": true
    },
    "kernelspec": {
      "name": "python3",
      "display_name": "Python 3"
    },
    "language_info": {
      "name": "python"
    },
    "accelerator": "GPU"
  },
  "cells": [
    {
      "cell_type": "markdown",
      "metadata": {
        "id": "view-in-github",
        "colab_type": "text"
      },
      "source": [
        "<a href=\"https://colab.research.google.com/github/alphadev3296/deep-learning-practice/blob/main/Chapter-08.ipynb\" target=\"_parent\"><img src=\"https://colab.research.google.com/assets/colab-badge.svg\" alt=\"Open In Colab\"/></a>"
      ]
    },
    {
      "cell_type": "code",
      "execution_count": 1,
      "metadata": {
        "colab": {
          "base_uri": "https://localhost:8080/"
        },
        "id": "_3uTnxSelOwd",
        "outputId": "7548febf-b9fc-4b26-83d4-b83d2077fd56"
      },
      "outputs": [
        {
          "output_type": "stream",
          "name": "stderr",
          "text": [
            "100%|██████████| 9.91M/9.91M [00:00<00:00, 17.8MB/s]\n",
            "100%|██████████| 28.9k/28.9k [00:00<00:00, 483kB/s]\n",
            "100%|██████████| 1.65M/1.65M [00:00<00:00, 4.47MB/s]\n",
            "100%|██████████| 4.54k/4.54k [00:00<00:00, 10.3MB/s]\n"
          ]
        },
        {
          "output_type": "stream",
          "name": "stdout",
          "text": [
            "total batch count: 600\n",
            "[Epoch: 1] cost = 0.22568991780281067\n",
            "[Epoch: 2] cost = 0.06301406770944595\n",
            "[Epoch: 3] cost = 0.046251650899648666\n",
            "[Epoch: 4] cost = 0.037342801690101624\n",
            "[Epoch: 5] cost = 0.031345050781965256\n",
            "[Epoch: 6] cost = 0.026039639487862587\n",
            "[Epoch: 7] cost = 0.0219209473580122\n",
            "[Epoch: 8] cost = 0.018320634961128235\n",
            "[Epoch: 9] cost = 0.01674780063331127\n",
            "[Epoch: 10] cost = 0.013415602035820484\n",
            "[Epoch: 11] cost = 0.009903719648718834\n",
            "[Epoch: 12] cost = 0.00995253212749958\n",
            "[Epoch: 13] cost = 0.008430206216871738\n",
            "[Epoch: 14] cost = 0.006857764441519976\n",
            "[Epoch: 15] cost = 0.006925378460437059\n"
          ]
        }
      ],
      "source": [
        "# MNIST Classification by CNN\n",
        "\n",
        "import torch\n",
        "from torchvision import datasets as dsets\n",
        "from torchvision import transforms\n",
        "from torch import nn, optim\n",
        "\n",
        "device = \"cuda\" if torch.cuda.is_available() else \"cpu\"\n",
        "\n",
        "torch.manual_seed(777)\n",
        "if device == \"cuda\":\n",
        "  torch.cuda.manual_seed_all(777)\n",
        "\n",
        "learning_rate = 0.001\n",
        "training_epochs = 15\n",
        "batch_size = 100\n",
        "\n",
        "mnist_train = dsets.MNIST(root=\"MNIST_data/\",\n",
        "                          train=True,\n",
        "                          transform=transforms.ToTensor(),\n",
        "                          download=True)\n",
        "\n",
        "mnist_test = dsets.MNIST(root=\"MNIST_data/\",\n",
        "                         train=False,\n",
        "                         transform=transforms.ToTensor(),\n",
        "                         download=True)\n",
        "\n",
        "data_loader = torch.utils.data.DataLoader(dataset=mnist_train,\n",
        "                                          batch_size=batch_size,\n",
        "                                          shuffle=True,\n",
        "                                          drop_last=True)\n",
        "\n",
        "class CNN(nn.Module):\n",
        "  def __init__(self):\n",
        "    super(CNN, self).__init__()\n",
        "    self.layer1 = nn.Sequential(\n",
        "        nn.Conv2d(1, 32, kernel_size=3, stride=1, padding=1),\n",
        "        nn.ReLU(),\n",
        "        nn.MaxPool2d(2)\n",
        "    )\n",
        "    self.layer2 = nn.Sequential(\n",
        "        nn.Conv2d(32, 64, kernel_size=3, stride=1, padding=1),\n",
        "        nn.ReLU(),\n",
        "        nn.MaxPool2d(2)\n",
        "    )\n",
        "    self.fc = nn.Linear(7*7*64, 10, bias=True)\n",
        "    torch.nn.init.xavier_uniform_(self.fc.weight)\n",
        "\n",
        "  def forward(self, x):\n",
        "    out = self.layer1(x)\n",
        "    out = self.layer2(out)\n",
        "    out = out.view(out.size(0), -1)\n",
        "    out = self.fc(out)\n",
        "    return out\n",
        "\n",
        "model = CNN().to(device)\n",
        "criterion = nn.CrossEntropyLoss().to(device)\n",
        "optimizer = optim.Adam(model.parameters(), lr=learning_rate)\n",
        "total_batch = len(data_loader)\n",
        "print(f\"total batch count: {total_batch}\")\n",
        "\n",
        "for epoch in range(training_epochs):\n",
        "  avg_cost = 0\n",
        "\n",
        "  for X, Y in data_loader:\n",
        "    X = X.to(device)\n",
        "    Y = Y.to(device)\n",
        "\n",
        "    optimizer.zero_grad()\n",
        "    hypothesis = model(X)\n",
        "    cost = criterion(hypothesis, Y)\n",
        "    cost.backward()\n",
        "    optimizer.step()\n",
        "\n",
        "    avg_cost += cost / total_batch\n",
        "\n",
        "  print(f\"[Epoch: {epoch+1}] cost = {avg_cost}\")"
      ]
    },
    {
      "cell_type": "code",
      "source": [
        "# Test Training Result\n",
        "\n",
        "with torch.no_grad():\n",
        "  X_test = mnist_test.data.view(len(mnist_test), 1, 28, 28).float().to(device)\n",
        "  Y_test = mnist_test.targets.to(device)\n",
        "\n",
        "  prediction = model(X_test)\n",
        "  correct_prediction = torch.argmax(prediction, 1) == Y_test\n",
        "  accuracy = correct_prediction.float().mean()\n",
        "  print(f\"Accuracy: {accuracy.item()}\")"
      ],
      "metadata": {
        "colab": {
          "base_uri": "https://localhost:8080/"
        },
        "id": "W5hjoaTz8Yqv",
        "outputId": "d8b3513a-7125-481e-c9ef-5c023515e93f"
      },
      "execution_count": 3,
      "outputs": [
        {
          "output_type": "stream",
          "name": "stdout",
          "text": [
            "Accuracy: 0.9888999462127686\n"
          ]
        }
      ]
    },
    {
      "cell_type": "code",
      "source": [
        "# MNIST Classification by Deep CNN\n",
        "\n",
        "import torch\n",
        "from torchvision import datasets as dsets\n",
        "from torchvision import transforms\n",
        "from torch import nn, optim\n",
        "\n",
        "device = \"cuda\" if torch.cuda.is_available() else \"cpu\"\n",
        "\n",
        "torch.manual_seed(777)\n",
        "if device == \"cuda\":\n",
        "  torch.cuda.manual_seed_all(777)\n",
        "\n",
        "learning_rate = 0.001\n",
        "training_epochs = 15\n",
        "batch_size = 100\n",
        "\n",
        "mnist_train = dsets.MNIST(root=\"MNIST_data/\",\n",
        "                          train=True,\n",
        "                          transform=transforms.ToTensor(),\n",
        "                          download=True)\n",
        "\n",
        "mnist_test = dsets.MNIST(root=\"MNIST_data/\",\n",
        "                         train=False,\n",
        "                         transform=transforms.ToTensor(),\n",
        "                         download=True)\n",
        "\n",
        "data_loader = torch.utils.data.DataLoader(dataset=mnist_train,\n",
        "                                          batch_size=batch_size,\n",
        "                                          shuffle=True,\n",
        "                                          drop_last=True)\n",
        "\n",
        "class CNN(nn.Module):\n",
        "  def __init__(self):\n",
        "    super(CNN, self).__init__()\n",
        "    self.layer1 = nn.Sequential(\n",
        "        nn.Conv2d(1, 32, kernel_size=3, stride=1, padding=1),\n",
        "        nn.ReLU(),\n",
        "        nn.MaxPool2d(2)\n",
        "    )\n",
        "    self.layer2 = nn.Sequential(\n",
        "        nn.Conv2d(32, 64, kernel_size=3, stride=1, padding=1),\n",
        "        nn.ReLU(),\n",
        "        nn.MaxPool2d(2)\n",
        "    )\n",
        "    self.layer3 = nn.Sequential(\n",
        "        nn.Conv2d(64, 128, kernel_size=3, stride=1, padding=1),\n",
        "        nn.ReLU(),\n",
        "        nn.MaxPool2d(2)\n",
        "    )\n",
        "    self.fc = nn.Linear(7*7*64, 10, bias=True)\n",
        "    torch.nn.init.xavier_uniform_(self.fc.weight)\n",
        "\n",
        "  def forward(self, x):\n",
        "    out = self.layer1(x)\n",
        "    out = self.layer2(out)\n",
        "    out = out.view(out.size(0), -1)\n",
        "    out = self.fc(out)\n",
        "    return out\n",
        "\n",
        "model = CNN().to(device)\n",
        "criterion = nn.CrossEntropyLoss().to(device)\n",
        "optimizer = optim.Adam(model.parameters(), lr=learning_rate)\n",
        "total_batch = len(data_loader)\n",
        "print(f\"total batch count: {total_batch}\")\n",
        "\n",
        "for epoch in range(training_epochs):\n",
        "  avg_cost = 0\n",
        "\n",
        "  for X, Y in data_loader:\n",
        "    X = X.to(device)\n",
        "    Y = Y.to(device)\n",
        "\n",
        "    optimizer.zero_grad()\n",
        "    hypothesis = model(X)\n",
        "    cost = criterion(hypothesis, Y)\n",
        "    cost.backward()\n",
        "    optimizer.step()\n",
        "\n",
        "    avg_cost += cost / total_batch\n",
        "\n",
        "  print(f\"[Epoch: {epoch+1}] cost = {avg_cost}\")"
      ],
      "metadata": {
        "colab": {
          "base_uri": "https://localhost:8080/"
        },
        "id": "XTb0WvjQ80l2",
        "outputId": "a89b1aab-0d0c-452e-e0d8-4f470b30b47f"
      },
      "execution_count": 4,
      "outputs": [
        {
          "output_type": "stream",
          "name": "stdout",
          "text": [
            "total batch count: 600\n",
            "[Epoch: 1] cost = 0.22647464275360107\n",
            "[Epoch: 2] cost = 0.06254331022500992\n",
            "[Epoch: 3] cost = 0.045955460518598557\n",
            "[Epoch: 4] cost = 0.03686288744211197\n",
            "[Epoch: 5] cost = 0.030128424987196922\n",
            "[Epoch: 6] cost = 0.025002561509609222\n",
            "[Epoch: 7] cost = 0.022035866975784302\n",
            "[Epoch: 8] cost = 0.017317380756139755\n",
            "[Epoch: 9] cost = 0.015846695750951767\n",
            "[Epoch: 10] cost = 0.013088827952742577\n",
            "[Epoch: 11] cost = 0.012431655079126358\n",
            "[Epoch: 12] cost = 0.008659344166517258\n",
            "[Epoch: 13] cost = 0.008277696557343006\n",
            "[Epoch: 14] cost = 0.00690342066809535\n",
            "[Epoch: 15] cost = 0.006459190510213375\n"
          ]
        }
      ]
    },
    {
      "cell_type": "code",
      "source": [
        "# Test Training Result\n",
        "\n",
        "with torch.no_grad():\n",
        "  X_test = mnist_test.data.view(len(mnist_test), 1, 28, 28).float().to(device)\n",
        "  Y_test = mnist_test.targets.to(device)\n",
        "\n",
        "  prediction = model(X_test)\n",
        "  correct_prediction = torch.argmax(prediction, 1) == Y_test\n",
        "  accuracy = correct_prediction.float().mean()\n",
        "  print(f\"Accuracy: {accuracy.item()}\")"
      ],
      "metadata": {
        "colab": {
          "base_uri": "https://localhost:8080/"
        },
        "id": "c2Ha8Gbo98Z-",
        "outputId": "0c72a234-c572-4260-a25e-5715675e3960"
      },
      "execution_count": 5,
      "outputs": [
        {
          "output_type": "stream",
          "name": "stdout",
          "text": [
            "Accuracy: 0.984499990940094\n"
          ]
        }
      ]
    },
    {
      "cell_type": "markdown",
      "source": [
        "Added a new layer but accuracy is decreased. So, it's important to use deep layers, but it's not always good solution."
      ],
      "metadata": {
        "id": "hc5nNHDi-CtN"
      }
    }
  ]
}